{
 "cells": [
  {
   "cell_type": "markdown",
   "id": "d0a6d83a-4f19-404d-b28b-a5ecd65feec7",
   "metadata": {},
   "source": [
    "Q1. What are the three measures of central tendency?"
   ]
  },
  {
   "cell_type": "markdown",
   "id": "712680c3-d360-48f9-abc9-67aaf884bc89",
   "metadata": {},
   "source": [
    "Ans : 1 . Mean\n",
    "      2 . Median\n",
    "      3 . Mode"
   ]
  },
  {
   "cell_type": "markdown",
   "id": "3b5c5800-8a14-4f87-abe3-31a311816a94",
   "metadata": {},
   "source": [
    "Q2. What is the difference between the mean, median, and mode? How are they used to measure the\n",
    "central tendency of a dataset?"
   ]
  },
  {
   "cell_type": "markdown",
   "id": "6bf96ccd-2fd8-4edf-b859-6668c587ea2f",
   "metadata": {},
   "source": [
    "\n",
    "Ans : Mean -  is basicaly a average of datapoint and can we heighly influenced by outliers.\n",
    "      median -  is the middle value of a dataset when arranged in order and Mode - is most frequent value . \n",
    "    we use these three in EDA and Feature engineering acording to the dataset requirements \n",
    "    \n",
    "    \n"
   ]
  },
  {
   "cell_type": "markdown",
   "id": "deeb8722-ebfd-458e-a71e-2f312cabfb48",
   "metadata": {},
   "source": [
    "Q3. Measure the three measures of central tendency for the given height data:\n",
    "     [178,177,176,177,178.2,178,175,179,180,175,178.9,176.2,177,172.5,178,176.5]"
   ]
  },
  {
   "cell_type": "code",
   "execution_count": 10,
   "id": "7fbcea13-580e-4d9c-915a-8a6841cde732",
   "metadata": {},
   "outputs": [],
   "source": [
    "import numpy as np"
   ]
  },
  {
   "cell_type": "code",
   "execution_count": 5,
   "id": "eb2d0d32-4ca4-446c-a9c3-381f7c392cab",
   "metadata": {},
   "outputs": [
    {
     "data": {
      "text/plain": [
       "177.01875"
      ]
     },
     "execution_count": 5,
     "metadata": {},
     "output_type": "execute_result"
    }
   ],
   "source": [
    "x =  [178,177,176,177,178.2,178,175,179,180,175,178.9,176.2,177,172.5,178,176.5]\n",
    "\n",
    "np.mean(x)\n"
   ]
  },
  {
   "cell_type": "code",
   "execution_count": 6,
   "id": "1fa520ce-51f4-4e56-87a0-ef26ca774b3e",
   "metadata": {},
   "outputs": [
    {
     "data": {
      "text/plain": [
       "177.0"
      ]
     },
     "execution_count": 6,
     "metadata": {},
     "output_type": "execute_result"
    }
   ],
   "source": [
    "np.median(x)"
   ]
  },
  {
   "cell_type": "code",
   "execution_count": 11,
   "id": "99ec2f3c-80ba-4ce2-8ab0-2e7aaa61b042",
   "metadata": {},
   "outputs": [],
   "source": [
    "from scipy import stats"
   ]
  },
  {
   "cell_type": "code",
   "execution_count": 12,
   "id": "4146ad90-cff2-4189-8684-6bfa92e0f0f0",
   "metadata": {},
   "outputs": [
    {
     "name": "stderr",
     "output_type": "stream",
     "text": [
      "/tmp/ipykernel_119/1654510724.py:1: FutureWarning: Unlike other reduction functions (e.g. `skew`, `kurtosis`), the default behavior of `mode` typically preserves the axis it acts along. In SciPy 1.11.0, this behavior will change: the default value of `keepdims` will become False, the `axis` over which the statistic is taken will be eliminated, and the value None will no longer be accepted. Set `keepdims` to True or False to avoid this warning.\n",
      "  stats.mode(x)\n"
     ]
    },
    {
     "data": {
      "text/plain": [
       "ModeResult(mode=array([177.]), count=array([3]))"
      ]
     },
     "execution_count": 12,
     "metadata": {},
     "output_type": "execute_result"
    }
   ],
   "source": [
    "stats.mode(x)"
   ]
  },
  {
   "cell_type": "markdown",
   "id": "a5a1ab8c-f5f0-4596-b9e6-fd81be8d5e2c",
   "metadata": {},
   "source": [
    "Q4. Find the standard deviation for the given data:\n",
    "\n",
    "[178,177,176,177,178.2,178,175,179,180,175,178.9,176.2,177,172.5,178,176.5]"
   ]
  },
  {
   "cell_type": "code",
   "execution_count": 18,
   "id": "66562c7b-adbb-48fe-86b7-2b9982103fb6",
   "metadata": {},
   "outputs": [
    {
     "data": {
      "text/plain": [
       "1.7885814036548633"
      ]
     },
     "execution_count": 18,
     "metadata": {},
     "output_type": "execute_result"
    }
   ],
   "source": [
    " h = [178,177,176,177,178.2,178,175,179,180,175,178.9,176.2,177,172.5,178,176.5]\n",
    "    \n",
    "np.std(h)\n"
   ]
  },
  {
   "cell_type": "markdown",
   "id": "5b67bf86-5c02-4c9e-89df-2c6a0aba99e6",
   "metadata": {},
   "source": [
    "Q5. How are measures of dispersion such as range, variance, and standard deviation used to describe\n",
    "the spread of a dataset? Provide an example."
   ]
  },
  {
   "cell_type": "markdown",
   "id": "a38f1b20-151a-454b-aac5-53f83f7c450b",
   "metadata": {},
   "source": [
    "Ans : \n",
    "\n",
    "Measures of dispersion are used to describe how much the values in a dataset vary or spread out from the central tendency of the data, such as the mean or median. Three common measures of dispersion are range, variance, and standard deviation. \n",
    "\n",
    " Range is the simplest measure of dispersion, and it is calculated as the difference between the largest and smallest values in the dataset. However, range is sensitive to outliers and can be an inaccurate measure of dispersion when the dataset has extreme values.\n",
    "\n",
    " Variance is a more robust measure of dispersion, and it is calculated by taking the average of the squared differences between each data point and the mean of the dataset. Variance provides a measure of how much the values in the dataset deviate from the mean, and it is expressed in squared units, which can be difficult to interpret.\n",
    "\n",
    " Standard deviation is the most commonly used measure of dispersion, and it is the square root of the variance. Standard deviation provides a measure of how much the values in the dataset deviate from the mean, and it is expressed in the same units as the original data. It is often used as a measure of uncertainty or error, and it is widely used in statistical analysis.\n",
    "\n",
    "For example, suppose we have a dataset of 10 test scores: 60, 65, 70, 75, 80, 85, 90, 95, 100, 105. The mean of this dataset is (60+65+70+75+80+85+90+95+100+105)/10 = 82.5. \n",
    "\n",
    "The range of the data is 105-60 = 45.\n",
    "\n",
    "The variance of the data is [(60-82.5)^2 + (65-82.5)^2 + ... + (105-82.5)^2]/10 = 350.\n",
    "\n",
    "The standard deviation of the data is sqrt(350) = 18.71.\n",
    "\n",
    "These measures of dispersion tell us how much the test scores deviate from the mean, and they can help us understand how much variability there is in the data. In this example, we can see that the range of the test scores is relatively small, but the standard deviation is relatively large, which suggests that there is a fair amount of variability in the data."
   ]
  },
  {
   "cell_type": "markdown",
   "id": "085b325b-c3e1-44a5-a4e7-f2836a39d6d7",
   "metadata": {},
   "source": [
    "Q6. What is a Venn diagram?"
   ]
  },
  {
   "cell_type": "markdown",
   "id": "49701a18-a998-4ee7-a6f9-8f9ee778e944",
   "metadata": {},
   "source": [
    "Ans : \n",
    "    A Venn diagram is a graphical representation of sets or groups of objects, items, or concepts that displays the relationships among them. It is a type of diagram that uses overlapping circles or other shapes to represent the logical relationships among the sets.\n",
    "\n",
    "The basic elements of a Venn diagram are circles or ovals that represent sets, and the overlapping regions where the circles intersect represent the items that belong to multiple sets. The areas outside of the circles represent items that do not belong to any of the sets."
   ]
  },
  {
   "cell_type": "markdown",
   "id": "7a173ac8-29f1-43d5-9f18-22bff0632ef6",
   "metadata": {},
   "source": [
    "Q7. For the two given sets A = (2,3,4,5,6,7) & B = (0,2,6,8,10). Find:\n",
    "\n",
    "(i) \tA intesection B\n",
    "\n",
    "(ii)\tA ⋃ B"
   ]
  },
  {
   "cell_type": "code",
   "execution_count": 18,
   "id": "b7551364-a811-4de3-a6f1-b28421d58440",
   "metadata": {},
   "outputs": [
    {
     "name": "stdout",
     "output_type": "stream",
     "text": [
      "the intersection of A and B is: {2, 6}\n",
      "The union of  and B is: {0, 2, 3, 4, 5, 6, 7, 8, 10}\n"
     ]
    }
   ],
   "source": [
    "\n",
    "    A = {2, 3, 4, 5, 6, 7}\n",
    "    B = {0, 2, 6, 8, 10}\n",
    "    \n",
    "### Intersection \n",
    "intersection = A.intersection (B)\n",
    "print(\"the intersection of A and B is:\",intersection)\n",
    "\n",
    "### Union\n",
    "\n",
    "union = A.union(B)\n",
    "print(\"The union of  and B is:\",union)\n"
   ]
  },
  {
   "cell_type": "markdown",
   "id": "9fd062ef-b67a-4b54-9404-03c016e2e216",
   "metadata": {},
   "source": [
    "Q8. What do you understand about skewness in data?"
   ]
  },
  {
   "cell_type": "markdown",
   "id": "120181a1-3546-4cbd-92a3-18c10a10f37b",
   "metadata": {},
   "source": [
    "Ans : \n",
    "    Skewness is a measure of the asymmetry of a probability distribution, or in simpler terms, it measures the extent to which the data deviate from symmetry. A distribution is said to be symmetric if it looks the same on both sides of the center point, which is typically the mean or median of the data. \n",
    "\n",
    "A distribution is said to be skewed if it is not symmetric, meaning that the distribution has a tail that is longer on one side than the other. If the tail is longer on the left side of the distribution, then it is said to be left-skewed or negatively skewed. On the other hand, if the tail is longer on the right side of the distribution, then it is said to be right-skewed or positively skewed.\n",
    "\n",
    "Skewness is important because it can affect the interpretation of statistical analyses. For example, when the data is skewed, the mean is often not a good measure of central tendency, because it is affected by the outliers. Instead, the median is often a better measure of central tendency for skewed data. \n",
    "\n",
    "Skewness can be measured using statistical measures such as the skewness coefficient, which measures the degree of asymmetry in the distribution. If the skewness coefficient is zero, then the distribution is perfectly symmetric. A positive skewness coefficient indicates a right-skewed distribution, while a negative skewness coefficient indicates a left-skewed distribution."
   ]
  },
  {
   "cell_type": "markdown",
   "id": "68968eb0-4e0e-428d-85f1-c6aff753e72a",
   "metadata": {},
   "source": [
    "Q9. If a data is right skewed then what will be the position of median with respect to mean?"
   ]
  },
  {
   "cell_type": "markdown",
   "id": "630a0d4e-7f77-49ac-af84-0cb5b2b83f00",
   "metadata": {},
   "source": [
    "If a dataset is right-skewed, meaning it has a longer tail on the right-hand side of the distribution, then the median will be less than the mean. This is because the mean is affected by the outliers in the right tail, which pull the mean to the right. The median, on the other hand, is not affected by the extreme values in the tails of the distribution, and so it represents the center of the distribution better in this case.\n",
    "\n",
    "To illustrate this, consider the following example of a right-skewed dataset:\n",
    "\n",
    "    2, 3, 4, 5, 6, 7, 10, 15, 20, 25, 30, 35, 40, 50, 60\n",
    "\n",
    "The mean of this dataset is:\n",
    "\n",
    "    mean = (2 + 3 + 4 + 5 + 6 + 7 + 10 + 15 + 20 + 25 + 30 + 35 + 40 + 50 + 60) / 15 = 19.6\n",
    "\n",
    "The median of this dataset is:\n",
    "\n",
    "    median = (10 + 15) / 2 = 12.5\n",
    "\n",
    "In this example, the mean is greater than the median, which is consistent with the fact that the dataset is right-skewed."
   ]
  },
  {
   "cell_type": "markdown",
   "id": "6e369794-6560-42bf-aadf-c3b3c70443a1",
   "metadata": {},
   "source": [
    "Q10. Explain the difference between covariance and correlation. How are these measures used in\n",
    "statistical analysis?"
   ]
  },
  {
   "cell_type": "markdown",
   "id": "f5306ce5-2935-4b68-8d3b-452f1b675df5",
   "metadata": {},
   "source": [
    "Ans :\n",
    "    \n",
    "\n",
    "Covariance and correlation are both measures used to describe the relationship between two variables in a dataset. However, they differ in the way they measure the strength and direction of the relationship.\n",
    "\n",
    "Covariance measures how two variables change together, and it is a measure of the joint variability of two random variables. Specifically, the covariance between two variables X and Y is calculated as the average of the product of the deviations of X and Y from their respective means. A positive covariance means that the variables tend to increase or decrease together, while a negative covariance means that they tend to move in opposite directions.\n",
    "\n",
    "Correlation, on the other hand, measures the strength and direction of the linear relationship between two variables, and it is a standardized version of covariance. Correlation ranges from -1 to 1, where a correlation of -1 indicates a perfectly negative relationship, 0 indicates no relationship, and 1 indicates a perfectly positive relationship. Correlation can be calculated using the covariance of two variables divided by the product of their standard deviations.\n",
    "\n",
    "In statistical analysis, both covariance and correlation are used to explore the relationship between two variables in a dataset. However, correlation is more commonly used because it standardizes the measure, allowing for easier interpretation and comparison across different datasets. Correlation is also used in regression analysis, where it is used to determine the strength and direction of the relationship between a dependent variable and one or more independent variables. Additionally, covariance is used in calculating some statistical tests, such as the analysis of variance (ANOVA), and in estimating some parameters in statistical models."
   ]
  },
  {
   "cell_type": "markdown",
   "id": "a21feacd-f514-46f2-906c-88872a225474",
   "metadata": {},
   "source": [
    "Q11. What is the formula for calculating the sample mean? Provide an example calculation for a\n",
    "dataset."
   ]
  },
  {
   "cell_type": "markdown",
   "id": "dd542b02-f587-4ff2-8b55-cfa5f0b98b8a",
   "metadata": {},
   "source": [
    "The formula for calculating the sample mean, denoted by x̄, is:\n",
    "\n",
    "x̄ = (sum of all values in the dataset) / (number of values in the dataset)\n",
    "\n",
    "In other words, the sample mean is the average of all the values in a dataset.\n",
    "\n",
    "Here is an example calculation for a dataset:\n",
    "\n",
    "Consider the following dataset of test scores: {78, 82, 93, 86, 71}\n",
    "\n",
    "To calculate the sample mean, we first need to find the sum of all the values in the dataset:\n",
    "\n",
    "78 + 82 + 93 + 86 + 71 = 410\n",
    "\n",
    "Next, we need to find the number of values in the dataset, which is 5.\n",
    "\n",
    "Now, we can use the formula to calculate the sample mean:\n",
    "\n",
    "x̄ = (sum of all values in the dataset) / (number of values in the dataset)\n",
    "\n",
    "x̄ = 410 / 5\n",
    "\n",
    "x̄ = 82\n",
    "\n",
    "Therefore, the sample mean of the test scores dataset is 82."
   ]
  },
  {
   "cell_type": "markdown",
   "id": "e2bbaefc-c65a-4b91-ae9d-a26d5370b515",
   "metadata": {},
   "source": [
    "Q12. For a normal distribution data what is the relationship between its measure of central tendency?"
   ]
  },
  {
   "cell_type": "markdown",
   "id": "1ed209b7-61f1-4784-b90c-c2d6620fb6f6",
   "metadata": {},
   "source": [
    "Ans :\n",
    "    For a normal distribution, the three measures of central tendency - mean, median, and mode - are all equal to each other. \n",
    "\n",
    "This is because the normal distribution is symmetric around its mean, and the mean is located at the center of the distribution. The median is also located at the center of the distribution for a symmetric distribution. The mode is the value that occurs with the highest frequency in the distribution, and for a normal distribution, the mode is also equal to the mean and median.\n",
    "\n",
    "Therefore, in a normal distribution, the mean, median, and mode are all equal to each other and represent the central tendency of the data."
   ]
  },
  {
   "cell_type": "markdown",
   "id": "97120baa-c2c6-4861-8a07-326224f8bb72",
   "metadata": {},
   "source": [
    "Q13. How is covariance different from correlation?"
   ]
  },
  {
   "cell_type": "markdown",
   "id": "bbb0ae59-bfa4-44b5-ae98-69f5a1bb5c7e",
   "metadata": {},
   "source": [
    "Ans :\n",
    "    Covariance and correlation are both measures that describe the relationship between two variables. However, they differ in a few important ways:\n",
    "\n",
    "1.Scale: Covariance is not standardized, and its value is influenced by the scale of the variables. Correlation, on the other hand, is standardized, and its value is not influenced by the scale of the variables.\n",
    "\n",
    "2.Interpretation: Covariance measures the direction and strength of the relationship between two variables but doesn't indicate the strength of the relationship on a standardized scale. Correlation, however, indicates the direction and strength of the relationship between two variables on a standardized scale, ranging from -1 to +1.\n",
    "\n",
    "3.Range: Covariance can take any value within a given range, while correlation is limited to values between -1 and +1.\n",
    "\n",
    "4.Units: Covariance is measured in the units of the two variables being compared. Correlation, on the other hand, is unitless.\n",
    "\n",
    "In summary, covariance and correlation are both measures of the relationship between two variables, but correlation is a more standardized measure that can be interpreted more easily, whereas covariance is not standardized and its value is influenced by the scale of the variables."
   ]
  },
  {
   "cell_type": "markdown",
   "id": "096b8d61-d91b-4796-93d1-acbc14361d60",
   "metadata": {},
   "source": [
    "Q14. How do outliers affect measures of central tendency and dispersion? Provide an example."
   ]
  },
  {
   "cell_type": "markdown",
   "id": "490ae8e6-4dc5-44cb-b5c8-668f3aa6b1a4",
   "metadata": {},
   "source": [
    "Ans :\n",
    "Outliers are data points that are significantly different from the other data points in a dataset. Outliers can have a significant effect on the measures of central tendency and dispersion, such as the mean, median, mode, variance, and standard deviation.\n",
    "\n",
    "In terms of measures of central tendency, outliers can have a substantial impact on the mean but a minimal impact on the median and mode. This is because the mean is influenced by extreme values, while the median and mode are not. For example, consider the following dataset of 10 ages: {21, 22, 23, 24, 25, 26, 27, 28, 29, 100}. The mean age is 33.5, which is much higher than the other ages in the dataset due to the outlier value of 100. However, the median and mode are both 25, which are more representative of the ages in the dataset.\n",
    "\n",
    "In terms of measures of dispersion, outliers can increase the variance and standard deviation of a dataset, making the data appear more spread out than it actually is. For example, consider the following dataset of 10 salaries in thousands of dollars: {30, 35, 40, 45, 50, 55, 60, 65, 70, 200}. The variance of this dataset is 2970.8 and the standard deviation is 54.5, which are both inflated due to the outlier salary of 200 thousand dollars. If we remove the outlier salary, the variance becomes 199.5 and the standard deviation becomes 14.1, which are more representative of the salaries in the dataset.\n",
    "\n",
    "In summary, outliers can have a significant impact on measures of central tendency and dispersion, and it's important to identify and handle them appropriately in statistical analysis."
   ]
  }
 ],
 "metadata": {
  "kernelspec": {
   "display_name": "Python 3 (ipykernel)",
   "language": "python",
   "name": "python3"
  },
  "language_info": {
   "codemirror_mode": {
    "name": "ipython",
    "version": 3
   },
   "file_extension": ".py",
   "mimetype": "text/x-python",
   "name": "python",
   "nbconvert_exporter": "python",
   "pygments_lexer": "ipython3",
   "version": "3.10.8"
  }
 },
 "nbformat": 4,
 "nbformat_minor": 5
}
